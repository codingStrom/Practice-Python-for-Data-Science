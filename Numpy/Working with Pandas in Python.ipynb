{
 "cells": [
  {
   "cell_type": "code",
   "execution_count": 2,
   "id": "7f659d69",
   "metadata": {},
   "outputs": [],
   "source": [
    "import pandas as pd\n",
    "import numpy as np"
   ]
  },
  {
   "cell_type": "code",
   "execution_count": null,
   "id": "f572958c",
   "metadata": {},
   "outputs": [],
   "source": [
    "#fetching single column from dataframe"
   ]
  },
  {
   "cell_type": "code",
   "execution_count": 2,
   "id": "3f425d20",
   "metadata": {},
   "outputs": [
    {
     "data": {
      "text/plain": [
       "0    50\n",
       "1    25\n",
       "2    45\n",
       "Name: Age, dtype: int64"
      ]
     },
     "execution_count": 2,
     "metadata": {},
     "output_type": "execute_result"
    }
   ],
   "source": [
    "df = pd.DataFrame(\n",
    " {\n",
    " \"Name\": [\"Anuprita\", \"Shreekar\", \"Anuja\"],\n",
    " \"Age\": [50, 25, 45],\n",
    " \"Sex\": [\"F\", \"M\", \"F\"],\n",
    " }\n",
    ")\n",
    "df[\"Age\"]"
   ]
  },
  {
   "cell_type": "code",
   "execution_count": null,
   "id": "ce3bdd86",
   "metadata": {},
   "outputs": [],
   "source": [
    "#create a Series from scratch"
   ]
  },
  {
   "cell_type": "code",
   "execution_count": 4,
   "id": "68b33da3",
   "metadata": {},
   "outputs": [
    {
     "data": {
      "text/plain": [
       "0    22\n",
       "1    35\n",
       "2    58\n",
       "Name: Age, dtype: int64"
      ]
     },
     "execution_count": 4,
     "metadata": {},
     "output_type": "execute_result"
    }
   ],
   "source": [
    "ages = pd.Series([22, 35, 58], name=\"Age\")\n",
    "ages"
   ]
  },
  {
   "cell_type": "markdown",
   "id": "fcdc015a",
   "metadata": {},
   "source": [
    "# Different ways to create DataFrame "
   ]
  },
  {
   "cell_type": "code",
   "execution_count": null,
   "id": "3fa11d1f",
   "metadata": {},
   "outputs": [],
   "source": [
    "#Constructing DataFrame from a dictionary"
   ]
  },
  {
   "cell_type": "code",
   "execution_count": 5,
   "id": "93d16677",
   "metadata": {},
   "outputs": [
    {
     "name": "stdout",
     "output_type": "stream",
     "text": [
      "{'col1': [1, 2], 'col2': [3, 4]}\n",
      "   col1  col2\n",
      "0     1     3\n",
      "1     2     4\n"
     ]
    }
   ],
   "source": [
    "d = {'col1': [1, 2], 'col2': [3, 4]}\n",
    "print(d)\n",
    "df = pd.DataFrame(d)\n",
    "print(df)"
   ]
  },
  {
   "cell_type": "code",
   "execution_count": null,
   "id": "ff142764",
   "metadata": {},
   "outputs": [],
   "source": [
    "#Constructing DataFrame from a dictionary including Series"
   ]
  },
  {
   "cell_type": "code",
   "execution_count": 6,
   "id": "c41ac3c3",
   "metadata": {},
   "outputs": [
    {
     "name": "stdout",
     "output_type": "stream",
     "text": [
      "{'col1': [0, 1], 'col2': 2    2\n",
      "3    3\n",
      "dtype: int64}\n",
      "   col1  col2\n",
      "2     0     2\n",
      "3     1     3\n"
     ]
    }
   ],
   "source": [
    "d = {'col1': [0, 1], 'col2': pd.Series([2, 3], index=[2, 3])}\n",
    "print(d)\n",
    "df = pd.DataFrame(d)\n",
    "print(df)"
   ]
  },
  {
   "cell_type": "code",
   "execution_count": null,
   "id": "28934e99",
   "metadata": {},
   "outputs": [],
   "source": [
    "#Constructing DataFrame from numpy ndarray"
   ]
  },
  {
   "cell_type": "code",
   "execution_count": 7,
   "id": "328d5386",
   "metadata": {},
   "outputs": [
    {
     "ename": "NameError",
     "evalue": "name 'np' is not defined",
     "output_type": "error",
     "traceback": [
      "\u001b[1;31m---------------------------------------------------------------------------\u001b[0m",
      "\u001b[1;31mNameError\u001b[0m                                 Traceback (most recent call last)",
      "Cell \u001b[1;32mIn[7], line 1\u001b[0m\n\u001b[1;32m----> 1\u001b[0m df2 \u001b[38;5;241m=\u001b[39m pd\u001b[38;5;241m.\u001b[39mDataFrame(np\u001b[38;5;241m.\u001b[39marray([[\u001b[38;5;241m1\u001b[39m, \u001b[38;5;241m2\u001b[39m, \u001b[38;5;241m3\u001b[39m], [\u001b[38;5;241m4\u001b[39m, \u001b[38;5;241m5\u001b[39m, \u001b[38;5;241m6\u001b[39m], [\u001b[38;5;241m7\u001b[39m, \u001b[38;5;241m8\u001b[39m, \u001b[38;5;241m9\u001b[39m]]), columns\u001b[38;5;241m=\u001b[39m[\u001b[38;5;124m'\u001b[39m\u001b[38;5;124ma\u001b[39m\u001b[38;5;124m'\u001b[39m, \u001b[38;5;124m'\u001b[39m\u001b[38;5;124mb\u001b[39m\u001b[38;5;124m'\u001b[39m, \u001b[38;5;124m'\u001b[39m\u001b[38;5;124mc\u001b[39m\u001b[38;5;124m'\u001b[39m])\n\u001b[0;32m      2\u001b[0m \u001b[38;5;28mprint\u001b[39m(df2)\n",
      "\u001b[1;31mNameError\u001b[0m: name 'np' is not defined"
     ]
    }
   ],
   "source": [
    "df2 = pd.DataFrame(np.array([[1, 2, 3], [4, 5, 6], [7, 8, 9]]), columns=['a', 'b', 'c'])\n",
    "print(df2)"
   ]
  },
  {
   "cell_type": "code",
   "execution_count": null,
   "id": "fed1f601",
   "metadata": {},
   "outputs": [],
   "source": [
    "#Constructing DataFrame from a numpy ndarray that has labeled columns"
   ]
  },
  {
   "cell_type": "code",
   "execution_count": 11,
   "id": "46ca57b9",
   "metadata": {},
   "outputs": [],
   "source": [
    "data = np.array([(1, 2, 3), (4, 5, 6), (7, 8, 9)], dtype=[(\"a\", \"i4\"), (\"b\", \"i4\"), (\"c\",\"i4\")]) "
   ]
  },
  {
   "cell_type": "code",
   "execution_count": 12,
   "id": "910cf7e0",
   "metadata": {},
   "outputs": [
    {
     "name": "stdout",
     "output_type": "stream",
     "text": [
      "   a  b  c\n",
      "0  1  2  3\n",
      "1  4  5  6\n",
      "2  7  8  9\n"
     ]
    }
   ],
   "source": [
    "df1 = pd.DataFrame(data)\n",
    "print(df1)\n",
    "df2 = pd.DataFrame(data, columns=['c', 'a'])"
   ]
  },
  {
   "cell_type": "code",
   "execution_count": 13,
   "id": "8377dfc1",
   "metadata": {},
   "outputs": [
    {
     "name": "stdout",
     "output_type": "stream",
     "text": [
      "   c  a\n",
      "0  3  1\n",
      "1  6  4\n",
      "2  9  7\n"
     ]
    }
   ],
   "source": [
    "print(df2)"
   ]
  },
  {
   "cell_type": "code",
   "execution_count": null,
   "id": "d9885d67",
   "metadata": {},
   "outputs": [],
   "source": [
    "#Constructing DataFrame from different Functions"
   ]
  },
  {
   "cell_type": "code",
   "execution_count": 14,
   "id": "fc0a7b88",
   "metadata": {},
   "outputs": [
    {
     "name": "stdout",
     "output_type": "stream",
     "text": [
      "           A    x         y       C           D\n",
      "0 2016-01-01  0.0  0.928602    High  101.164764\n",
      "1 2016-01-02  1.0  0.153821     Low   88.191772\n",
      "2 2016-01-03  2.0  0.576381  Medium   79.779162\n",
      "3 2016-01-04  3.0  0.080451  Medium  110.900211\n",
      "4 2016-01-05  4.0  0.653027     Low  110.914279\n"
     ]
    }
   ],
   "source": [
    "N=5\n",
    "df = pd.DataFrame({\n",
    " 'A': pd.date_range(start='2016-01-01',periods=N,freq='D'),\n",
    " 'x': np.linspace(0,stop=N-1,num=N),\n",
    " 'y': np.random.rand(N),\n",
    " 'C': np.random.choice(['Low','Medium','High'],N).tolist(),\n",
    " 'D': np.random.normal(100, 10, size=(N)).tolist()\n",
    " })\n",
    "print(df)\n"
   ]
  },
  {
   "cell_type": "markdown",
   "id": "cb0d89bb",
   "metadata": {},
   "source": [
    "# Different ways to create series"
   ]
  },
  {
   "cell_type": "code",
   "execution_count": 15,
   "id": "62ca683f",
   "metadata": {},
   "outputs": [
    {
     "name": "stdout",
     "output_type": "stream",
     "text": [
      "a    1\n",
      "b    2\n",
      "c    3\n",
      "dtype: int64\n"
     ]
    }
   ],
   "source": [
    "d = {'a': 1, 'b': 2, 'c': 3}\n",
    "ser = pd.Series(data=d, index=['a', 'b', 'c'])\n",
    "print(ser)"
   ]
  },
  {
   "cell_type": "code",
   "execution_count": 16,
   "id": "6cd7ca71",
   "metadata": {},
   "outputs": [
    {
     "name": "stdout",
     "output_type": "stream",
     "text": [
      "x   NaN\n",
      "y   NaN\n",
      "z   NaN\n",
      "dtype: float64\n"
     ]
    }
   ],
   "source": [
    "ser = pd.Series(data=d, index=['x', 'y', 'z'])\n",
    "print(ser)"
   ]
  },
  {
   "cell_type": "code",
   "execution_count": null,
   "id": "40818e0b",
   "metadata": {},
   "outputs": [],
   "source": [
    "#Constructing Series from a 1d ndarray with copy=False"
   ]
  },
  {
   "cell_type": "code",
   "execution_count": 17,
   "id": "0bb8c0a0",
   "metadata": {},
   "outputs": [
    {
     "name": "stdout",
     "output_type": "stream",
     "text": [
      "0    1\n",
      "1    2\n",
      "dtype: int32\n"
     ]
    }
   ],
   "source": [
    "r = np.array([1, 2])\n",
    "ser = pd.Series(r, copy=False)\n",
    "print(ser)"
   ]
  },
  {
   "cell_type": "markdown",
   "id": "3bcf1cd9",
   "metadata": {},
   "source": [
    "# Selecting specific column in DataFrame"
   ]
  },
  {
   "cell_type": "code",
   "execution_count": 20,
   "id": "d0a1af8c",
   "metadata": {},
   "outputs": [
    {
     "data": {
      "text/plain": [
       "0    50\n",
       "1    25\n",
       "2    45\n",
       "Name: Age, dtype: int64"
      ]
     },
     "execution_count": 20,
     "metadata": {},
     "output_type": "execute_result"
    }
   ],
   "source": [
    "df = pd.DataFrame(\n",
    " {\n",
    " \"Name\": [\"Anuprita\", \"Shreekar\", \"Anuja\"],\n",
    " \"Age\": [50, 25, 45],\n",
    " \"Sex\": [\"F\", \"M\", \"F\"],\n",
    " }\n",
    ")\n",
    "df[\"Age\"]"
   ]
  },
  {
   "cell_type": "markdown",
   "id": "921a95c2",
   "metadata": {},
   "source": [
    "# Adding new column in DataFrame"
   ]
  },
  {
   "cell_type": "code",
   "execution_count": 23,
   "id": "2d1e0a50",
   "metadata": {},
   "outputs": [
    {
     "name": "stdout",
     "output_type": "stream",
     "text": [
      "       Name  Age Sex\n",
      "0  Anuprita   50   F\n",
      "1  Shreekar   25   M\n",
      "2     Anuja   45   F\n",
      "       Name  Age Sex  Flat No\n",
      "0  Anuprita   50   F      101\n",
      "1  Shreekar   25   M      102\n",
      "2     Anuja   45   F      103\n"
     ]
    }
   ],
   "source": [
    "df = pd.DataFrame(\n",
    " {\n",
    " \"Name\": [\"Anuprita\", \"Shreekar\", \"Anuja\"],\n",
    " \"Age\": [50, 25, 45],\n",
    " \"Sex\": [\"F\", \"M\", \"F\"],\n",
    " }\n",
    ")\n",
    "print(df)\n",
    "df['Flat No']=pd.Series([101,102,103])\n",
    "print(df)"
   ]
  },
  {
   "cell_type": "markdown",
   "id": "3c07123a",
   "metadata": {},
   "source": [
    "# Adding new columns derived from existing columns"
   ]
  },
  {
   "cell_type": "code",
   "execution_count": 27,
   "id": "32bb07aa",
   "metadata": {},
   "outputs": [
    {
     "name": "stdout",
     "output_type": "stream",
     "text": [
      "       Name  Age Sex  Salary\n",
      "0  Anuprita   50   F    1000\n",
      "1  Shreekar   25   M    2000\n",
      "2     Anuja   45   F    3000\n",
      "       Name  Age Sex  Salary   Bonus\n",
      "0  Anuprita   50   F    1000  1050.0\n",
      "1  Shreekar   25   M    2000  2100.0\n",
      "2     Anuja   45   F    3000  3150.0\n"
     ]
    }
   ],
   "source": [
    "df = pd.DataFrame(\n",
    " {\n",
    " \"Name\": [\"Anuprita\", \"Shreekar\", \"Anuja\"],\n",
    " \"Age\": [50, 25, 45],\n",
    " \"Sex\": [\"F\", \"M\", \"F\"],\n",
    " \"Salary\" : [1000,2000,3000],\n",
    " }\n",
    ")\n",
    "\n",
    "print(df)\n",
    "\n",
    "df[\"Bonus\"] = df[\"Salary\"] + df[\"Salary\"] * 0.05\n",
    "\n",
    "print(df)"
   ]
  },
  {
   "cell_type": "markdown",
   "id": "7c7c9c4a",
   "metadata": {},
   "source": [
    "# Changing the column name in DataFrame"
   ]
  },
  {
   "cell_type": "code",
   "execution_count": 28,
   "id": "d86f13ba",
   "metadata": {},
   "outputs": [
    {
     "name": "stdout",
     "output_type": "stream",
     "text": [
      "    0   1\n",
      "0  10  20\n",
      "1  30  40\n",
      "   One  Two\n",
      "0   10   20\n",
      "1   30   40\n"
     ]
    }
   ],
   "source": [
    "d1 = pd.DataFrame([[10, 20], [30, 40]])\n",
    "print(d1)\n",
    "d1.columns = [\"One\", \"Two\"]\n",
    "print(d1)\n"
   ]
  },
  {
   "cell_type": "code",
   "execution_count": 29,
   "id": "5f718271",
   "metadata": {},
   "outputs": [
    {
     "name": "stdout",
     "output_type": "stream",
     "text": [
      "   NewOne  Two\n",
      "0      10   20\n",
      "1      30   40\n"
     ]
    }
   ],
   "source": [
    "d1 = d1.rename(columns={\"One\" : \"NewOne\"})\n",
    "print(d1)"
   ]
  },
  {
   "cell_type": "markdown",
   "id": "821ab387",
   "metadata": {},
   "source": [
    "# Delete column of DataFrame"
   ]
  },
  {
   "cell_type": "code",
   "execution_count": 32,
   "id": "4ce0f298",
   "metadata": {},
   "outputs": [
    {
     "name": "stdout",
     "output_type": "stream",
     "text": [
      "       Name  Age Sex  Flat No\n",
      "0  Anuprita   50   F      101\n",
      "1  Shreekar   25   M      102\n",
      "2     Anuja   45   F      103\n",
      "       Name  Age Sex\n",
      "0  Anuprita   50   F\n",
      "1  Shreekar   25   M\n",
      "2     Anuja   45   F\n",
      "       Name  Age\n",
      "0  Anuprita   50\n",
      "1  Shreekar   25\n",
      "2     Anuja   45\n"
     ]
    }
   ],
   "source": [
    "df = pd.DataFrame(\n",
    " {\n",
    " \"Name\": [\"Anuprita\", \"Shreekar\", \"Anuja\"],\n",
    " \"Age\": [50, 25, 45],\n",
    " \"Sex\": [\"F\", \"M\", \"F\"],\n",
    " \"Flat No\" : [101,102,103],\n",
    " }\n",
    ")\n",
    "print(df)\n",
    "del df[\"Flat No\"] # using del function\n",
    "print(df)\n",
    "df.pop(\"Sex\") # using pop function\n",
    "print(df)"
   ]
  },
  {
   "cell_type": "markdown",
   "id": "da835acd",
   "metadata": {},
   "source": [
    "# Adding and deleting rows in DataFrame"
   ]
  },
  {
   "cell_type": "code",
   "execution_count": 37,
   "id": "ae0c8406",
   "metadata": {},
   "outputs": [
    {
     "name": "stdout",
     "output_type": "stream",
     "text": [
      "    0   1\n",
      "0  10  20\n",
      "1  30  40\n",
      "0  50  60\n",
      "1  70  80\n",
      "    0   1\n",
      "1  30  40\n",
      "1  70  80\n"
     ]
    }
   ],
   "source": [
    "d1 = pd.DataFrame([[10, 20], [30, 40]])\n",
    "d2 = pd.DataFrame([[50, 60], [70, 80]])\n",
    "d1= d1._append(d2)\n",
    "print(d1)\n",
    "d1 = d1.drop(0)\n",
    "print(d1)\n"
   ]
  },
  {
   "cell_type": "code",
   "execution_count": null,
   "id": "8d0e981c",
   "metadata": {},
   "outputs": [],
   "source": [
    "#Here we can easily see the problem. It is the problem of indexing. In order to remove this\n",
    "#problem we can use “ignore_index”"
   ]
  },
  {
   "cell_type": "code",
   "execution_count": 39,
   "id": "4f1db235",
   "metadata": {},
   "outputs": [
    {
     "name": "stdout",
     "output_type": "stream",
     "text": [
      "    0   1\n",
      "0  10  20\n",
      "1  30  40\n",
      "2  50  60\n",
      "3  70  80\n",
      "    0   1\n",
      "1  30  40\n",
      "2  50  60\n",
      "3  70  80\n"
     ]
    }
   ],
   "source": [
    "d1 = pd.DataFrame([[10, 20], [30, 40]])\n",
    "d2 = pd.DataFrame([[50, 60], [70, 80]])\n",
    "d1 = d1._append(d2, ignore_index = True)\n",
    "print(d1)\n",
    "d1 = d1.drop(0)\n",
    "print(d1)"
   ]
  },
  {
   "cell_type": "markdown",
   "id": "357b3f91",
   "metadata": {},
   "source": [
    "# Index"
   ]
  },
  {
   "cell_type": "code",
   "execution_count": 42,
   "id": "4e04c8c4",
   "metadata": {},
   "outputs": [
    {
     "name": "stdout",
     "output_type": "stream",
     "text": [
      "   0  1  2\n",
      "0  1  2  3\n",
      "1  4  5  6\n",
      "2  7  8  9\n",
      "   One  Two  Three\n",
      "a    1    2      3\n",
      "b    4    5      6\n",
      "c    7    8      9\n"
     ]
    }
   ],
   "source": [
    "df1 = pd.DataFrame([[1,2,3],[4, 5, 6], [7,8,9]])\n",
    "print(df1)\n",
    "# If column name and index is not given then pandas assign the column and index starting from 0.\n",
    "df2 = pd.DataFrame([[1,2,3],[4, 5, 6], [7,8,9]], columns=['One', 'Two', 'Three'], index =\n",
    "(\"a\",\"b\",\"c\"))\n",
    "print(df2)\n",
    "\n"
   ]
  },
  {
   "cell_type": "markdown",
   "id": "2c184501",
   "metadata": {},
   "source": [
    "# Set_index "
   ]
  },
  {
   "cell_type": "code",
   "execution_count": 46,
   "id": "6e8959ef",
   "metadata": {},
   "outputs": [
    {
     "name": "stdout",
     "output_type": "stream",
     "text": [
      "       Name  Age Sex\n",
      "0  Anuprita   50   F\n",
      "1  Shreekar   25   M\n",
      "2     Anuja   45   F\n",
      "          Age Sex\n",
      "Name             \n",
      "Anuprita   50   F\n",
      "Shreekar   25   M\n",
      "Anuja      45   F\n",
      "         Name Sex\n",
      "Age              \n",
      "50   Anuprita   F\n",
      "25   Shreekar   M\n",
      "45      Anuja   F\n"
     ]
    }
   ],
   "source": [
    "df = pd.DataFrame(\n",
    " {\n",
    " \"Name\": [\"Anuprita\", \"Shreekar\", \"Anuja\"],\n",
    " \"Age\": [50, 25, 45],\n",
    " \"Sex\": [\"F\", \"M\", \"F\"],\n",
    " }\n",
    ")\n",
    "print(df)\n",
    "df1 = df.set_index(\"Name\")\n",
    "print(df1)\n",
    "df2 = df.set_index(\"Age\")\n",
    "print(df2)\n"
   ]
  },
  {
   "cell_type": "markdown",
   "id": "89797361",
   "metadata": {},
   "source": [
    "# Multiple Index"
   ]
  },
  {
   "cell_type": "code",
   "execution_count": 47,
   "id": "14201d2b",
   "metadata": {},
   "outputs": [
    {
     "name": "stdout",
     "output_type": "stream",
     "text": [
      "       Name  Age Sex  Salary\n",
      "0  Anuprita   50   F    1000\n",
      "1  Shreekar   25   M    2000\n",
      "2     Anuja   45   F    3000\n",
      "             Sex  Salary\n",
      "Name     Age            \n",
      "Anuprita 50    F    1000\n",
      "Shreekar 25    M    2000\n",
      "Anuja    45    F    3000\n"
     ]
    }
   ],
   "source": [
    "df = pd.DataFrame(\n",
    " {\n",
    " \"Name\": [\"Anuprita\", \"Shreekar\", \"Anuja\"],\n",
    " \"Age\": [50, 25, 45],\n",
    " \"Sex\": [\"F\", \"M\", \"F\"],\n",
    " \"Salary\" : [1000,2000,3000],\n",
    " }\n",
    ")\n",
    "print(df)\n",
    "df2 = df.set_index([\"Name\", \"Age\"])\n",
    "print(df2)"
   ]
  },
  {
   "cell_type": "markdown",
   "id": "9b556a80",
   "metadata": {},
   "source": [
    "# Iterating DataFrame"
   ]
  },
  {
   "cell_type": "code",
   "execution_count": 48,
   "id": "e10b5e8a",
   "metadata": {},
   "outputs": [
    {
     "name": "stdout",
     "output_type": "stream",
     "text": [
      "       Name  Age Sex\n",
      "0  Anuprita   50   F\n",
      "1  Shreekar   25   M\n",
      "2     Anuja   45   F\n",
      "Name\n",
      "Age\n",
      "Sex\n"
     ]
    }
   ],
   "source": [
    "df = pd.DataFrame(\n",
    " {\n",
    " \"Name\": [\"Anuprita\", \"Shreekar\", \"Anuja\"],\n",
    " \"Age\": [50, 25, 45],\n",
    " \"Sex\": [\"F\", \"M\", \"F\"],\n",
    " }\n",
    ")\n",
    "print(df)\n",
    "for col in df:\n",
    " print (col)"
   ]
  },
  {
   "cell_type": "code",
   "execution_count": null,
   "id": "d53aeea8",
   "metadata": {},
   "outputs": [],
   "source": [
    "#Let us iterate rows now. There are 3 functions to iterate:"
   ]
  },
  {
   "cell_type": "code",
   "execution_count": 51,
   "id": "4e7b80ad",
   "metadata": {},
   "outputs": [
    {
     "name": "stdout",
     "output_type": "stream",
     "text": [
      "       Name  Age Sex\n",
      "0  Anuprita   50   F\n",
      "1  Shreekar   25   M\n",
      "2     Anuja   45   F\n",
      "Name 0    Anuprita\n",
      "1    Shreekar\n",
      "2       Anuja\n",
      "Name: Name, dtype: object\n",
      "Age 0    50\n",
      "1    25\n",
      "2    45\n",
      "Name: Age, dtype: int64\n",
      "Sex 0    F\n",
      "1    M\n",
      "2    F\n",
      "Name: Sex, dtype: object\n",
      "0 Name    Anuprita\n",
      "Age           50\n",
      "Sex            F\n",
      "Name: 0, dtype: object\n",
      "1 Name    Shreekar\n",
      "Age           25\n",
      "Sex            M\n",
      "Name: 1, dtype: object\n",
      "2 Name    Anuja\n",
      "Age        45\n",
      "Sex         F\n",
      "Name: 2, dtype: object\n",
      "Pandas(Index=0, Name='Anuprita', Age=50, Sex='F')\n",
      "Pandas(Index=1, Name='Shreekar', Age=25, Sex='M')\n",
      "Pandas(Index=2, Name='Anuja', Age=45, Sex='F')\n"
     ]
    }
   ],
   "source": [
    "df = pd.DataFrame(\n",
    " {\n",
    " \"Name\": [\"Anuprita\", \"Shreekar\", \"Anuja\"],\n",
    " \"Age\": [50, 25, 45],\n",
    " \"Sex\": [\"F\", \"M\", \"F\"],\n",
    " }\n",
    ")\n",
    "print(df)\n",
    "for key,value in df.items():\n",
    "    print (key,value)\n",
    "for row_index,row in df.iterrows():\n",
    "    print (row_index,row)\n",
    "for row in df.itertuples():\n",
    "    print (row)"
   ]
  },
  {
   "cell_type": "markdown",
   "id": "2e5f7424",
   "metadata": {},
   "source": [
    "# Viewing the rows of DataFrame"
   ]
  },
  {
   "cell_type": "code",
   "execution_count": 52,
   "id": "2a7f9b3b",
   "metadata": {},
   "outputs": [
    {
     "name": "stdout",
     "output_type": "stream",
     "text": [
      "       Name  Age Sex\n",
      "0  Anuprita   50   F\n",
      "1  Shreekar   25   M\n",
      "       Name  Age Sex\n",
      "1  Shreekar   25   M\n",
      "2     Anuja   45   F\n"
     ]
    }
   ],
   "source": [
    "df = pd.DataFrame(\n",
    " {\n",
    " \"Name\": [\"Anuprita\", \"Shreekar\", \"Anuja\"],\n",
    " \"Age\": [50, 25, 45],\n",
    " \"Sex\": [\"F\", \"M\", \"F\"],\n",
    " }\n",
    ")\n",
    "print(df.head(2)) # It will display first 2 rows, if not specified then By default it will print first 5 records.\n",
    "print(df.tail(2)) # It will display last 2 rows, if not specified then By default it will print last 5 records."
   ]
  },
  {
   "cell_type": "code",
   "execution_count": null,
   "id": "c315a994",
   "metadata": {},
   "outputs": [],
   "source": [
    "#Transpose"
   ]
  },
  {
   "cell_type": "code",
   "execution_count": 53,
   "id": "468ac49c",
   "metadata": {},
   "outputs": [
    {
     "name": "stdout",
     "output_type": "stream",
     "text": [
      "             0         1      2\n",
      "Name  Anuprita  Shreekar  Anuja\n",
      "Age         50        25     45\n",
      "Sex          F         M      F\n"
     ]
    }
   ],
   "source": [
    "df = pd.DataFrame(\n",
    " {\n",
    " \"Name\": [\"Anuprita\", \"Shreekar\", \"Anuja\"],\n",
    " \"Age\": [50, 25, 45],\n",
    " \"Sex\": [\"F\", \"M\", \"F\"],\n",
    " }\n",
    ")\n",
    "\n",
    "print(df.T)"
   ]
  },
  {
   "cell_type": "code",
   "execution_count": null,
   "id": "2e5db507",
   "metadata": {},
   "outputs": [],
   "source": [
    "#loc\n",
    "#The loc is used to access a group of rows and columns by label(s)"
   ]
  },
  {
   "cell_type": "code",
   "execution_count": 54,
   "id": "33d61ec3",
   "metadata": {},
   "outputs": [
    {
     "name": "stdout",
     "output_type": "stream",
     "text": [
      "Name    Shreekar\n",
      "Age           25\n",
      "Sex            M\n",
      "Name: 1, dtype: object\n"
     ]
    },
    {
     "data": {
      "text/html": [
       "<div>\n",
       "<style scoped>\n",
       "    .dataframe tbody tr th:only-of-type {\n",
       "        vertical-align: middle;\n",
       "    }\n",
       "\n",
       "    .dataframe tbody tr th {\n",
       "        vertical-align: top;\n",
       "    }\n",
       "\n",
       "    .dataframe thead th {\n",
       "        text-align: right;\n",
       "    }\n",
       "</style>\n",
       "<table border=\"1\" class=\"dataframe\">\n",
       "  <thead>\n",
       "    <tr style=\"text-align: right;\">\n",
       "      <th></th>\n",
       "      <th>Name</th>\n",
       "      <th>Age</th>\n",
       "      <th>Sex</th>\n",
       "    </tr>\n",
       "  </thead>\n",
       "  <tbody>\n",
       "    <tr>\n",
       "      <th>1</th>\n",
       "      <td>Shreekar</td>\n",
       "      <td>25</td>\n",
       "      <td>M</td>\n",
       "    </tr>\n",
       "    <tr>\n",
       "      <th>2</th>\n",
       "      <td>Anuja</td>\n",
       "      <td>45</td>\n",
       "      <td>F</td>\n",
       "    </tr>\n",
       "  </tbody>\n",
       "</table>\n",
       "</div>"
      ],
      "text/plain": [
       "       Name  Age Sex\n",
       "1  Shreekar   25   M\n",
       "2     Anuja   45   F"
      ]
     },
     "execution_count": 54,
     "metadata": {},
     "output_type": "execute_result"
    }
   ],
   "source": [
    "df = pd.DataFrame(\n",
    " {\n",
    " \"Name\": [\"Anuprita\", \"Shreekar\", \"Anuja\"],\n",
    " \"Age\": [50, 25, 45],\n",
    " \"Sex\": [\"F\", \"M\", \"F\"],\n",
    " }\n",
    ")\n",
    "print(df.loc[1])\n",
    "df.loc[[1,2]]\n",
    "df.loc[1:3] #It will display the rows from 1 to 3. Note that 3 rows will not display."
   ]
  },
  {
   "cell_type": "markdown",
   "id": "0cf34678",
   "metadata": {},
   "source": [
    "# Rank"
   ]
  },
  {
   "cell_type": "code",
   "execution_count": 56,
   "id": "4ae0ac33",
   "metadata": {},
   "outputs": [
    {
     "data": {
      "text/plain": [
       "0    1.5\n",
       "1    3.0\n",
       "2    1.5\n",
       "Name: Sex, dtype: float64"
      ]
     },
     "execution_count": 56,
     "metadata": {},
     "output_type": "execute_result"
    }
   ],
   "source": [
    "df = pd.DataFrame(\n",
    " {\n",
    " \"Name\": [\"Anuprita\", \"Shreekar\", \"Anuja\"],\n",
    " \"Age\": [50, 25, 45],\n",
    " \"Sex\": [\"F\", \"M\", \"F\"],\n",
    " }\n",
    ")\n",
    "df[\"Name\"].rank()\n",
    "df[\"Sex\"].rank()\n"
   ]
  },
  {
   "cell_type": "markdown",
   "id": "123bff8e",
   "metadata": {},
   "source": [
    "# Sort"
   ]
  },
  {
   "cell_type": "code",
   "execution_count": 59,
   "id": "6d512a3c",
   "metadata": {},
   "outputs": [
    {
     "data": {
      "text/html": [
       "<div>\n",
       "<style scoped>\n",
       "    .dataframe tbody tr th:only-of-type {\n",
       "        vertical-align: middle;\n",
       "    }\n",
       "\n",
       "    .dataframe tbody tr th {\n",
       "        vertical-align: top;\n",
       "    }\n",
       "\n",
       "    .dataframe thead th {\n",
       "        text-align: right;\n",
       "    }\n",
       "</style>\n",
       "<table border=\"1\" class=\"dataframe\">\n",
       "  <thead>\n",
       "    <tr style=\"text-align: right;\">\n",
       "      <th></th>\n",
       "      <th>Name</th>\n",
       "      <th>Age</th>\n",
       "      <th>Sex</th>\n",
       "    </tr>\n",
       "  </thead>\n",
       "  <tbody>\n",
       "    <tr>\n",
       "      <th>1</th>\n",
       "      <td>Shreekar</td>\n",
       "      <td>25</td>\n",
       "      <td>M</td>\n",
       "    </tr>\n",
       "    <tr>\n",
       "      <th>0</th>\n",
       "      <td>Anuprita</td>\n",
       "      <td>50</td>\n",
       "      <td>F</td>\n",
       "    </tr>\n",
       "    <tr>\n",
       "      <th>2</th>\n",
       "      <td>Anuja</td>\n",
       "      <td>45</td>\n",
       "      <td>F</td>\n",
       "    </tr>\n",
       "  </tbody>\n",
       "</table>\n",
       "</div>"
      ],
      "text/plain": [
       "       Name  Age Sex\n",
       "1  Shreekar   25   M\n",
       "0  Anuprita   50   F\n",
       "2     Anuja   45   F"
      ]
     },
     "execution_count": 59,
     "metadata": {},
     "output_type": "execute_result"
    }
   ],
   "source": [
    "df = pd.DataFrame(\n",
    " {\n",
    " \"Name\": [\"Anuprita\", \"Shreekar\", \"Anuja\"],\n",
    " \"Age\": [50, 25, 45],\n",
    " \"Sex\": [\"F\", \"M\", \"F\"],\n",
    " }\n",
    ")\n",
    "df.sort_values(by=[\"Name\"])\n",
    "df.sort_values(by=[\"Name\"],ascending=False)"
   ]
  },
  {
   "cell_type": "markdown",
   "id": "117595e3",
   "metadata": {},
   "source": [
    "# Data Alignment"
   ]
  },
  {
   "cell_type": "code",
   "execution_count": 62,
   "id": "a485847b",
   "metadata": {},
   "outputs": [
    {
     "name": "stdout",
     "output_type": "stream",
     "text": [
      "   D  B  E  A\n",
      "1  1  2  3  4\n",
      "2  6  7  8  9\n",
      "     A    B    C    D\n",
      "2   10   20   30   40\n",
      "3   60   70   80   90\n",
      "4  600  700  800  900\n"
     ]
    }
   ],
   "source": [
    "df1 = pd.DataFrame( [[1, 2, 3, 4], [6, 7, 8, 9]], columns=[\"D\", \"B\", \"E\", \"A\"], index=[1, 2])\n",
    "df2 = pd.DataFrame([[10, 20, 30, 40], [60, 70, 80, 90], [600, 700, 800, 900]], columns=[\"A\",\"B\", \"C\", \"D\"], index=[2, 3, 4])\n",
    "print(df1)\n",
    "print(df2)\n"
   ]
  },
  {
   "cell_type": "code",
   "execution_count": null,
   "id": "7287916d",
   "metadata": {},
   "outputs": [],
   "source": [
    "#Align on columns:"
   ]
  },
  {
   "cell_type": "code",
   "execution_count": 63,
   "id": "139bbe33",
   "metadata": {},
   "outputs": [
    {
     "name": "stdout",
     "output_type": "stream",
     "text": [
      "   A  B   C  D  E\n",
      "1  4  2 NaN  1  3\n",
      "2  9  7 NaN  6  8\n",
      "     A    B    C    D   E\n",
      "2   10   20   30   40 NaN\n",
      "3   60   70   80   90 NaN\n",
      "4  600  700  800  900 NaN\n"
     ]
    }
   ],
   "source": [
    "left, right = df1.align(df2, join=\"outer\", axis=1)\n",
    "print(left)\n",
    "print(right)"
   ]
  },
  {
   "cell_type": "code",
   "execution_count": null,
   "id": "6be39f88",
   "metadata": {},
   "outputs": [],
   "source": [
    "#Align on the index:"
   ]
  },
  {
   "cell_type": "code",
   "execution_count": 64,
   "id": "ff7cc348",
   "metadata": {},
   "outputs": [
    {
     "name": "stdout",
     "output_type": "stream",
     "text": [
      "     D    B    E    A\n",
      "1  1.0  2.0  3.0  4.0\n",
      "2  6.0  7.0  8.0  9.0\n",
      "3  NaN  NaN  NaN  NaN\n",
      "4  NaN  NaN  NaN  NaN\n",
      "       A      B      C      D\n",
      "1    NaN    NaN    NaN    NaN\n",
      "2   10.0   20.0   30.0   40.0\n",
      "3   60.0   70.0   80.0   90.0\n",
      "4  600.0  700.0  800.0  900.0\n"
     ]
    }
   ],
   "source": [
    "left, right = df1.align(df2, join=\"outer\", axis=0)\n",
    "print(left)\n",
    "print(right)\n"
   ]
  },
  {
   "cell_type": "code",
   "execution_count": null,
   "id": "399e2ed9",
   "metadata": {},
   "outputs": [],
   "source": [
    "#Align on the index and column:"
   ]
  },
  {
   "cell_type": "code",
   "execution_count": 65,
   "id": "46e63c77",
   "metadata": {},
   "outputs": [
    {
     "name": "stdout",
     "output_type": "stream",
     "text": [
      "     A    B   C    D    E\n",
      "1  4.0  2.0 NaN  1.0  3.0\n",
      "2  9.0  7.0 NaN  6.0  8.0\n",
      "3  NaN  NaN NaN  NaN  NaN\n",
      "4  NaN  NaN NaN  NaN  NaN\n",
      "       A      B      C      D   E\n",
      "1    NaN    NaN    NaN    NaN NaN\n",
      "2   10.0   20.0   30.0   40.0 NaN\n",
      "3   60.0   70.0   80.0   90.0 NaN\n",
      "4  600.0  700.0  800.0  900.0 NaN\n"
     ]
    }
   ],
   "source": [
    "left, right = df1.align(df2, join=\"outer\", axis=None)\n",
    "print(left)\n",
    "print(right)\n",
    "\n",
    "#Note: You can try join {‘outer’, ‘inner’, ‘left’, ‘right’}, default ‘outer’"
   ]
  },
  {
   "cell_type": "markdown",
   "id": "26dcec62",
   "metadata": {},
   "source": [
    "# Missing Data"
   ]
  },
  {
   "cell_type": "code",
   "execution_count": 66,
   "id": "e092581a",
   "metadata": {},
   "outputs": [],
   "source": [
    "df = pd.DataFrame(np.random.randn(5, 3), index=[\"a\", \"c\", \"e\", \"f\", \"h\"],\n",
    " columns=[\"one\", \"two\", \"three\"])\n",
    "df[\"four\"] = \"bar\"\n",
    "df[\"five\"] = df[\"one\"] > 0\n",
    "df2 = df.reindex([\"a\", \"b\", \"c\", \"d\", \"e\", \"f\", \"g\", \"h\"])"
   ]
  },
  {
   "cell_type": "code",
   "execution_count": null,
   "id": "2675ed4d",
   "metadata": {},
   "outputs": [],
   "source": [
    "# isna() "
   ]
  },
  {
   "cell_type": "code",
   "execution_count": 67,
   "id": "4bfddc88",
   "metadata": {},
   "outputs": [
    {
     "data": {
      "text/plain": [
       "a    False\n",
       "b     True\n",
       "c    False\n",
       "d     True\n",
       "e    False\n",
       "f    False\n",
       "g     True\n",
       "h    False\n",
       "Name: one, dtype: bool"
      ]
     },
     "execution_count": 67,
     "metadata": {},
     "output_type": "execute_result"
    }
   ],
   "source": [
    "pd.isna(df2[\"one\"])"
   ]
  },
  {
   "cell_type": "code",
   "execution_count": null,
   "id": "7c129581",
   "metadata": {},
   "outputs": [],
   "source": [
    "#notna() "
   ]
  },
  {
   "cell_type": "code",
   "execution_count": 68,
   "id": "bac94f1a",
   "metadata": {},
   "outputs": [
    {
     "data": {
      "text/plain": [
       "a     True\n",
       "b    False\n",
       "c     True\n",
       "d    False\n",
       "e     True\n",
       "f     True\n",
       "g    False\n",
       "h     True\n",
       "Name: one, dtype: bool"
      ]
     },
     "execution_count": 68,
     "metadata": {},
     "output_type": "execute_result"
    }
   ],
   "source": [
    "df2[\"one\"].notna()"
   ]
  },
  {
   "cell_type": "code",
   "execution_count": null,
   "id": "44100353",
   "metadata": {},
   "outputs": [],
   "source": [
    "#fillna()"
   ]
  },
  {
   "cell_type": "code",
   "execution_count": 69,
   "id": "fa18d2ae",
   "metadata": {},
   "outputs": [],
   "source": [
    "df2[\"four\"] = df2[\"four\"].fillna(\"missing\")\n",
    "# It replaces NaN with “missing”\n",
    "df2[\"one\"] = df2[\"one\"].fillna(method=\"ffill\")\n",
    "# It replaces NaN with previous Value of that Column.\n",
    "df2[\"two\"] = df2[\"two\"].fillna(method=\"backfill\")\n",
    "# It replaces NaN with Next Value of that Column.\n",
    "df2[\"three\"] = df2[\"three\"].fillna(df2[\"three\"].mean())\n",
    "36\n",
    "# It replaces NaN with average Value of that Column.\n",
    "df2[\"five\"] = df2[\"five\"].fillna(False)"
   ]
  },
  {
   "cell_type": "code",
   "execution_count": null,
   "id": "bcaf40b0",
   "metadata": {},
   "outputs": [],
   "source": [
    "#dropna() "
   ]
  },
  {
   "cell_type": "code",
   "execution_count": 70,
   "id": "51df4442",
   "metadata": {},
   "outputs": [],
   "source": [
    "df = pd.DataFrame(np.random.randn(5, 3), index=[\"a\", \"c\", \"e\", \"f\", \"h\"],\n",
    " columns=[\"one\", \"two\", \"three\"])\n",
    "df[\"four\"] = \"bar\"\n",
    "df[\"five\"] = df[\"one\"] > 0\n",
    "df2 = df.reindex([\"a\", \"b\", \"c\", \"d\", \"e\", \"f\", \"g\", \"h\"])"
   ]
  },
  {
   "cell_type": "markdown",
   "id": "99e1e981",
   "metadata": {},
   "source": [
    "# Reading writing Files"
   ]
  },
  {
   "cell_type": "code",
   "execution_count": null,
   "id": "03528441",
   "metadata": {},
   "outputs": [],
   "source": [
    "##Reading from JSON\n",
    "\n",
    "pd.read_json(\"test.json\")\n",
    "pd.read_json(\"test.json\", dtype=object).dtypes\n",
    "# It doesn’t convert any data (but still convert axes and dates)"
   ]
  },
  {
   "cell_type": "code",
   "execution_count": null,
   "id": "f7236b65",
   "metadata": {},
   "outputs": [],
   "source": [
    "#Writing JSON - A Series or DataFrame can be converted to a valid JSON string. You can use to_json()\n",
    "#function to create json file\n",
    "\n",
    "json = dfj2.to_json(date_unit=\"ns\")"
   ]
  },
  {
   "cell_type": "code",
   "execution_count": null,
   "id": "ccf4b924",
   "metadata": {},
   "outputs": [],
   "source": [
    "##Reading HTML File\n",
    "\n",
    "read_html()  #function can accept an HTML string/file/URL and will parse HTML tables into list of pandas DataFrames\n",
    "df = pd.read_url(“https://www.fdic.gov/resources/resolutions/bank-failures/failed-bank-list”)"
   ]
  },
  {
   "cell_type": "code",
   "execution_count": null,
   "id": "845b394d",
   "metadata": {},
   "outputs": [],
   "source": [
    "#Writing HTML File\n",
    "\n",
    "df2.to_html(open('my_file.html', 'w'))\n",
    "\n",
    "#The “my_file.html” file is stored at the same folder where your python file is located"
   ]
  },
  {
   "cell_type": "code",
   "execution_count": null,
   "id": "29fe0ee8",
   "metadata": {},
   "outputs": [],
   "source": [
    "##MS Excel Files\n",
    "#Reading HTML File\n",
    "#You can use read_excel() function to read excel file. The read_excel takes a path to an Excel\n",
    "#file, and the sheet_name indicating which sheet to parse\n",
    "\n",
    "pd.read_excel(\"path_to_file.xls\", sheet_name=\"Sheet1\")\n",
    "with pd.ExcelFile(\"path_to_file.xls\") as xls:\n",
    " df1 = pd.read_excel(xls, \"Sheet1\")\n",
    " df2 = pd.read_excel(xls, \"Sheet2\")"
   ]
  },
  {
   "cell_type": "code",
   "execution_count": null,
   "id": "795b934f",
   "metadata": {},
   "outputs": [],
   "source": [
    "##Writing HTML File\n",
    "\n",
    "df.to_excel(\"path_to_file.xlsx\", sheet_name=\"Sheet1\")\n"
   ]
  },
  {
   "cell_type": "markdown",
   "id": "52774d52",
   "metadata": {},
   "source": [
    "# Exercise"
   ]
  },
  {
   "cell_type": "code",
   "execution_count": null,
   "id": "6c1bdece",
   "metadata": {},
   "outputs": [],
   "source": [
    "1. What is Pandas ? Explain the Pandas in short.\n",
    "2. What are the steps of Panda installation?\n",
    "3. List out the different ways to create DataFrame and explain any two with the help of\n",
    "example.\n",
    "4. How to add and delete new column from DataFrame explain it with example?\n",
    "5. How to handle missing data in Pandas ? "
   ]
  }
 ],
 "metadata": {
  "kernelspec": {
   "display_name": "Python 3 (ipykernel)",
   "language": "python",
   "name": "python3"
  },
  "language_info": {
   "codemirror_mode": {
    "name": "ipython",
    "version": 3
   },
   "file_extension": ".py",
   "mimetype": "text/x-python",
   "name": "python",
   "nbconvert_exporter": "python",
   "pygments_lexer": "ipython3",
   "version": "3.11.5"
  }
 },
 "nbformat": 4,
 "nbformat_minor": 5
}
