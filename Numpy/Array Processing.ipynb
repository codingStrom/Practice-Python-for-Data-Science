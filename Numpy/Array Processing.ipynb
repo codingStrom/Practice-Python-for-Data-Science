{
 "cells": [
  {
   "cell_type": "markdown",
   "id": "495c80a9",
   "metadata": {},
   "source": [
    "# Adding elements in array."
   ]
  },
  {
   "cell_type": "code",
   "execution_count": 2,
   "id": "f00cad87",
   "metadata": {},
   "outputs": [],
   "source": [
    "import numpy as np"
   ]
  },
  {
   "cell_type": "code",
   "execution_count": 3,
   "id": "289e0ba2",
   "metadata": {},
   "outputs": [
    {
     "name": "stdout",
     "output_type": "stream",
     "text": [
      "[ 0  2  4  6  8 10]\n"
     ]
    }
   ],
   "source": [
    "a = np.arange(0, 11, 2)\n",
    "print(a)"
   ]
  },
  {
   "cell_type": "code",
   "execution_count": 4,
   "id": "c1ca8cf2",
   "metadata": {},
   "outputs": [],
   "source": [
    "#Now let us insert number 12 after second element in array."
   ]
  },
  {
   "cell_type": "code",
   "execution_count": 8,
   "id": "74f2a919",
   "metadata": {},
   "outputs": [
    {
     "name": "stdout",
     "output_type": "stream",
     "text": [
      "[ 0  2 12  4  6  8 10]\n"
     ]
    }
   ],
   "source": [
    "a = np.insert(a, 2, 12)\n",
    "print(a)\n"
   ]
  },
  {
   "cell_type": "code",
   "execution_count": null,
   "id": "46c4ff0e",
   "metadata": {},
   "outputs": [],
   "source": [
    "#Instead of insert you can also use append function to add the element in the array. But\n",
    "#remember that append can add element at the end only."
   ]
  },
  {
   "cell_type": "code",
   "execution_count": 9,
   "id": "2a44e266",
   "metadata": {},
   "outputs": [
    {
     "name": "stdout",
     "output_type": "stream",
     "text": [
      "[ 0  2  4  6  8 10]\n"
     ]
    }
   ],
   "source": [
    "a = np.arange(0, 11, 2)\n",
    "print(a)"
   ]
  },
  {
   "cell_type": "code",
   "execution_count": 11,
   "id": "1ca1f41f",
   "metadata": {},
   "outputs": [
    {
     "name": "stdout",
     "output_type": "stream",
     "text": [
      "[ 0  2  4  6  8 10 12]\n"
     ]
    }
   ],
   "source": [
    "a = np.append(a, 12)\n",
    "print(a)"
   ]
  },
  {
   "cell_type": "markdown",
   "id": "ce2a5ae7",
   "metadata": {},
   "source": [
    "# Deleting elements in array."
   ]
  },
  {
   "cell_type": "code",
   "execution_count": 12,
   "id": "7e2d8706",
   "metadata": {},
   "outputs": [
    {
     "name": "stdout",
     "output_type": "stream",
     "text": [
      "[ 0  2  4  6  8 10]\n"
     ]
    }
   ],
   "source": [
    "a = np.arange(0, 11, 2)\n",
    "print(a)"
   ]
  },
  {
   "cell_type": "code",
   "execution_count": 13,
   "id": "36d210a5",
   "metadata": {},
   "outputs": [
    {
     "name": "stdout",
     "output_type": "stream",
     "text": [
      "[ 0  2  6  8 10]\n"
     ]
    }
   ],
   "source": [
    "a = np.delete(a, 2)\n",
    "print(a)\n"
   ]
  },
  {
   "cell_type": "markdown",
   "id": "9ba3c852",
   "metadata": {},
   "source": [
    "# Indexing and Slicing"
   ]
  },
  {
   "cell_type": "code",
   "execution_count": 15,
   "id": "db82dc41",
   "metadata": {},
   "outputs": [
    {
     "data": {
      "text/plain": [
       "array([1, 2, 3])"
      ]
     },
     "execution_count": 15,
     "metadata": {},
     "output_type": "execute_result"
    }
   ],
   "source": [
    "data = np.array([1, 2, 3])\n",
    "data[0]\n",
    "data[1]\n",
    "data[0:2]\n",
    "data[1:]\n",
    "data[-2:]\n",
    "data"
   ]
  },
  {
   "cell_type": "code",
   "execution_count": null,
   "id": "eff0ce9a",
   "metadata": {},
   "outputs": [],
   "source": [
    "#1. Arithmetic operations"
   ]
  },
  {
   "cell_type": "code",
   "execution_count": 19,
   "id": "840c910a",
   "metadata": {},
   "outputs": [
    {
     "name": "stdout",
     "output_type": "stream",
     "text": [
      "[2 3]\n"
     ]
    }
   ],
   "source": [
    "data = np.array([1,2])\n",
    "ones = np.ones(2, dtype=int)\n",
    "print(data+ones)\n"
   ]
  },
  {
   "cell_type": "code",
   "execution_count": null,
   "id": "0ce84e62",
   "metadata": {},
   "outputs": [],
   "source": [
    "#example on 2-dimension array"
   ]
  },
  {
   "cell_type": "code",
   "execution_count": 24,
   "id": "2ddbf3e2",
   "metadata": {},
   "outputs": [
    {
     "name": "stdout",
     "output_type": "stream",
     "text": [
      "[[2 2]\n",
      " [6 4]]\n",
      "[[5 6]\n",
      " [7 8]]\n",
      "[[3 3]\n",
      " [5 5]]\n",
      "[[1 1]\n",
      " [2 1]]\n"
     ]
    }
   ],
   "source": [
    "x = np.array([[1, 1], [2, 1]])\n",
    "y = np.array([[2, 2], [3, 4]])\n",
    "print(x * y) # elementwise product\n",
    "print(x @ y) # matrix product\n",
    "print(x + y)\n",
    "print(x)"
   ]
  },
  {
   "cell_type": "code",
   "execution_count": null,
   "id": "25717724",
   "metadata": {},
   "outputs": [],
   "source": [
    "#2. Functions "
   ]
  },
  {
   "cell_type": "code",
   "execution_count": 25,
   "id": "b925cdd3",
   "metadata": {},
   "outputs": [
    {
     "name": "stdout",
     "output_type": "stream",
     "text": [
      "10\n",
      "4\n",
      "1\n"
     ]
    }
   ],
   "source": [
    "x = np.array([1, 2, 3, 4])\n",
    "print(x.sum())\n",
    "print(x.max())\n",
    "print(x.min())"
   ]
  },
  {
   "cell_type": "code",
   "execution_count": null,
   "id": "aa7601a8",
   "metadata": {},
   "outputs": [],
   "source": [
    "#example on 2-dimension array"
   ]
  },
  {
   "cell_type": "code",
   "execution_count": 26,
   "id": "abeafd0c",
   "metadata": {},
   "outputs": [
    {
     "name": "stdout",
     "output_type": "stream",
     "text": [
      "[3 3]\n",
      "[2 4]\n"
     ]
    }
   ],
   "source": [
    "y = np.array([[1, 1], [2, 2]])\n",
    "print(y.sum(axis=0))\n",
    "print(y.sum(axis=1))"
   ]
  },
  {
   "cell_type": "code",
   "execution_count": 27,
   "id": "094b8bf6",
   "metadata": {},
   "outputs": [
    {
     "name": "stdout",
     "output_type": "stream",
     "text": [
      "[5 6]\n",
      "[2 5 6]\n"
     ]
    }
   ],
   "source": [
    "data = np.array([[1, 2], [5, 3], [4, 6]])\n",
    "print (data.max(axis=0))\n",
    "print(data.max(axis=1))"
   ]
  },
  {
   "cell_type": "code",
   "execution_count": null,
   "id": "05871e1e",
   "metadata": {},
   "outputs": [],
   "source": [
    "#Some more functions"
   ]
  },
  {
   "cell_type": "code",
   "execution_count": 28,
   "id": "29ee8d1e",
   "metadata": {},
   "outputs": [
    {
     "name": "stdout",
     "output_type": "stream",
     "text": [
      "[11 12 13 14 15 16 17 18 19 20]\n",
      "[20 19 18 14 11 13 12 17 16 15 14 13 12 11 11]\n"
     ]
    }
   ],
   "source": [
    "a = np.array([11, 11, 12, 13, 14, 15, 16, 17, 12, 13, 11, 14, 18, 19, 20])\n",
    "print(np.unique(a))\n",
    "print(np.flip(a)) # to reverse the array"
   ]
  },
  {
   "cell_type": "code",
   "execution_count": 29,
   "id": "9f061e19",
   "metadata": {},
   "outputs": [
    {
     "name": "stdout",
     "output_type": "stream",
     "text": [
      "[[1 2]\n",
      " [3 4]\n",
      " [5 6]]\n",
      "[[1 3 5]\n",
      " [2 4 6]]\n"
     ]
    }
   ],
   "source": [
    "x = np.array([[1, 2], [3, 4], [5, 6]])\n",
    "print(x)\n",
    "print(x.transpose())"
   ]
  },
  {
   "cell_type": "code",
   "execution_count": 30,
   "id": "a26ad1de",
   "metadata": {},
   "outputs": [
    {
     "ename": "SyntaxError",
     "evalue": "'(' was never closed (963423398.py, line 4)",
     "output_type": "error",
     "traceback": [
      "\u001b[1;36m  Cell \u001b[1;32mIn[30], line 4\u001b[1;36m\u001b[0m\n\u001b[1;33m    print(np.hstack((x1, x2))\u001b[0m\n\u001b[1;37m         ^\u001b[0m\n\u001b[1;31mSyntaxError\u001b[0m\u001b[1;31m:\u001b[0m '(' was never closed\n"
     ]
    }
   ],
   "source": [
    "x1 = np.array([[1, 2], [3, 4]])\n",
    "x2 = np.array([[5, 6], [7, 8]])\n",
    "print(np.vstack((x1, x2))\n",
    "print(np.hstack((x1, x2))"
   ]
  },
  {
   "cell_type": "code",
   "execution_count": 31,
   "id": "4995fd31",
   "metadata": {},
   "outputs": [
    {
     "name": "stdout",
     "output_type": "stream",
     "text": [
      "[ 1  2  3  4  5  6  7  8  9 10 11 12]\n"
     ]
    }
   ],
   "source": [
    "x = np.array([[1 , 2, 3, 4], [5, 6, 7, 8], [9, 10, 11, 12]])\n",
    "print(x.flatten())"
   ]
  },
  {
   "cell_type": "code",
   "execution_count": 3,
   "id": "6e7585db",
   "metadata": {},
   "outputs": [
    {
     "name": "stdout",
     "output_type": "stream",
     "text": [
      "[ 1  2  3  4  5  6  7  8  9 10 11 12]\n"
     ]
    }
   ],
   "source": [
    "x = np.array([[1 , 2, 3, 4], [5, 6, 7, 8], [9, 10, 11, 12]])\n",
    "print(x.flatten())"
   ]
  },
  {
   "cell_type": "markdown",
   "id": "742ec6e7",
   "metadata": {},
   "source": [
    "# Array Input and Output"
   ]
  },
  {
   "cell_type": "code",
   "execution_count": 4,
   "id": "dc7d60b0",
   "metadata": {},
   "outputs": [
    {
     "name": "stdout",
     "output_type": "stream",
     "text": [
      "[1 2 3 4 5 6]\n"
     ]
    }
   ],
   "source": [
    "a = np.array([1, 2, 3, 4, 5, 6])\n",
    "np.save('f1', a)\n",
    "b = np.load('f1.npy')\n",
    "print(b)\n"
   ]
  }
 ],
 "metadata": {
  "kernelspec": {
   "display_name": "Python 3 (ipykernel)",
   "language": "python",
   "name": "python3"
  },
  "language_info": {
   "codemirror_mode": {
    "name": "ipython",
    "version": 3
   },
   "file_extension": ".py",
   "mimetype": "text/x-python",
   "name": "python",
   "nbconvert_exporter": "python",
   "pygments_lexer": "ipython3",
   "version": "3.11.5"
  }
 },
 "nbformat": 4,
 "nbformat_minor": 5
}
